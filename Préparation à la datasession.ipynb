{
 "cells": [
  {
   "cell_type": "markdown",
   "metadata": {},
   "source": [
    "# Les variables\n",
    "\n",
    "Les langages de programmation (comme Python que nous utilisons ici) utilisent des variables. C'est un peu comme un tiroir avec une étiquette où vous pouvez stocker des choses.\n",
    "\n",
    "Par exemple :"
   ]
  },
  {
   "cell_type": "code",
   "execution_count": 1,
   "metadata": {
    "collapsed": true
   },
   "outputs": [],
   "source": [
    "a = 3"
   ]
  },
  {
   "cell_type": "markdown",
   "metadata": {},
   "source": [
    "signifie qu'on a stocké le chiffre 3 dans une variable (notre \"boîte\") appelé `a`.\n",
    "\n",
    "Si on rappelle `a` :"
   ]
  },
  {
   "cell_type": "code",
   "execution_count": 2,
   "metadata": {
    "collapsed": false
   },
   "outputs": [
    {
     "data": {
      "text/plain": [
       "3"
      ]
     },
     "execution_count": 2,
     "metadata": {},
     "output_type": "execute_result"
    }
   ],
   "source": [
    "a"
   ]
  },
  {
   "cell_type": "markdown",
   "metadata": {},
   "source": [
    "Le chiffre 3 était bien enregistré dans la variable `a`.\n",
    "\n",
    "Mais on peut ensuite changer la valeur de la variable (comme on peut changer ce que contient une boîte) :"
   ]
  },
  {
   "cell_type": "code",
   "execution_count": 3,
   "metadata": {
    "collapsed": true
   },
   "outputs": [],
   "source": [
    "a = 10"
   ]
  },
  {
   "cell_type": "code",
   "execution_count": 4,
   "metadata": {
    "collapsed": false
   },
   "outputs": [
    {
     "data": {
      "text/plain": [
       "10"
      ]
     },
     "execution_count": 4,
     "metadata": {},
     "output_type": "execute_result"
    }
   ],
   "source": [
    "a"
   ]
  },
  {
   "cell_type": "markdown",
   "metadata": {},
   "source": [
    "Quelque chose de pratique : on peut faire des opérations avec des variables, comme on fait des opérations avec des chiffres :"
   ]
  },
  {
   "cell_type": "code",
   "execution_count": 5,
   "metadata": {
    "collapsed": true
   },
   "outputs": [],
   "source": [
    "b = 7\n",
    "c = 8"
   ]
  },
  {
   "cell_type": "code",
   "execution_count": 6,
   "metadata": {
    "collapsed": false
   },
   "outputs": [
    {
     "data": {
      "text/plain": [
       "15"
      ]
     },
     "execution_count": 6,
     "metadata": {},
     "output_type": "execute_result"
    }
   ],
   "source": [
    "b + c"
   ]
  },
  {
   "cell_type": "markdown",
   "metadata": {},
   "source": [
    "Et on peut stocker ce résultat dans une nouvelle variable :"
   ]
  },
  {
   "cell_type": "code",
   "execution_count": 16,
   "metadata": {
    "collapsed": true
   },
   "outputs": [],
   "source": [
    "resultat = b + c"
   ]
  },
  {
   "cell_type": "code",
   "execution_count": 17,
   "metadata": {
    "collapsed": false
   },
   "outputs": [
    {
     "data": {
      "text/plain": [
       "15"
      ]
     },
     "execution_count": 17,
     "metadata": {},
     "output_type": "execute_result"
    }
   ],
   "source": [
    "resultat"
   ]
  },
  {
   "cell_type": "markdown",
   "metadata": {},
   "source": [
    "Dans un tiroir, vous pouvez mettre différentes choses : des chaussettes, des robes, des chemises… Et c'est un peu pareil pour les variables : vous pouvez stocker des nombres, du texte, des listes…\n",
    "Exemple :"
   ]
  },
  {
   "cell_type": "code",
   "execution_count": 7,
   "metadata": {
    "collapsed": true
   },
   "outputs": [],
   "source": [
    "mon_chiffre = 5"
   ]
  },
  {
   "cell_type": "code",
   "execution_count": 8,
   "metadata": {
    "collapsed": true
   },
   "outputs": [],
   "source": [
    "mon_texte = \"Bonjour\""
   ]
  },
  {
   "cell_type": "code",
   "execution_count": 9,
   "metadata": {
    "collapsed": true
   },
   "outputs": [],
   "source": [
    "ma_liste = [3, 1, 4]"
   ]
  },
  {
   "cell_type": "markdown",
   "metadata": {},
   "source": [
    "Attention : on ne peut pas additionner des variables de type différent, comme on ne peut pas additionner des nœuds papillons et des cravates :"
   ]
  },
  {
   "cell_type": "code",
   "execution_count": 10,
   "metadata": {
    "collapsed": false
   },
   "outputs": [
    {
     "ename": "TypeError",
     "evalue": "unsupported operand type(s) for +: 'int' and 'str'",
     "output_type": "error",
     "traceback": [
      "\u001b[0;31m---------------------------------------------------------------------------\u001b[0m",
      "\u001b[0;31mTypeError\u001b[0m                                 Traceback (most recent call last)",
      "\u001b[0;32m<ipython-input-10-ffbd5889726b>\u001b[0m in \u001b[0;36m<module>\u001b[0;34m()\u001b[0m\n\u001b[0;32m----> 1\u001b[0;31m \u001b[0mmon_chiffre\u001b[0m \u001b[0;34m+\u001b[0m \u001b[0mmon_texte\u001b[0m\u001b[0;34m\u001b[0m\u001b[0m\n\u001b[0m",
      "\u001b[0;31mTypeError\u001b[0m: unsupported operand type(s) for +: 'int' and 'str'"
     ]
    }
   ],
   "source": [
    "mon_chiffre + mon_texte"
   ]
  },
  {
   "cell_type": "code",
   "execution_count": 12,
   "metadata": {
    "collapsed": false
   },
   "outputs": [
    {
     "data": {
      "text/plain": [
       "'Bonjour la Cour'"
      ]
     },
     "execution_count": 12,
     "metadata": {},
     "output_type": "execute_result"
    }
   ],
   "source": [
    "mon_texte2 = \" la Cour\"\n",
    "mon_texte + mon_texte2"
   ]
  },
  {
   "cell_type": "markdown",
   "metadata": {},
   "source": [
    "On vient de voir ici notre première erreur ! C'est tout à fait normal de voir des erreurs en programmant. Elles sont souvent assez explicite : ici, on apprend que l'opération `+` ne fonctionne pas entre des entiers (`'int'`) et du texte (`'str'`).\n",
    "\n",
    "Quand on voit une erreur comme ça, il peut être utile de rechercher sur Google sa signification. À coup sûr, quelqu'un à déjà eu cette erreur et vous trouverez rapidement de l'aide."
   ]
  },
  {
   "cell_type": "markdown",
   "metadata": {},
   "source": [
    "# Les fonctions\n",
    "Les fonctions permettent de réaliser une suite d'opération facilement. Par exemple, on peut créer un fonction qui nous calcule le carré d'un nombre. Comme ça, à chaque fois qu'on voudra calculer le carré d'un nombre, on pourra réutiliser notre fonction !\n",
    "Démonstration :"
   ]
  },
  {
   "cell_type": "code",
   "execution_count": 18,
   "metadata": {
    "collapsed": true
   },
   "outputs": [],
   "source": [
    "def carre(nombre):\n",
    "    resultat = nombre * nombre\n",
    "    return(resultat)"
   ]
  },
  {
   "cell_type": "code",
   "execution_count": 19,
   "metadata": {
    "collapsed": false
   },
   "outputs": [
    {
     "data": {
      "text/plain": [
       "25"
      ]
     },
     "execution_count": 19,
     "metadata": {},
     "output_type": "execute_result"
    }
   ],
   "source": [
    "carre(5)"
   ]
  },
  {
   "cell_type": "code",
   "execution_count": 20,
   "metadata": {
    "collapsed": false
   },
   "outputs": [
    {
     "data": {
      "text/plain": [
       "1764"
      ]
     },
     "execution_count": 20,
     "metadata": {},
     "output_type": "execute_result"
    }
   ],
   "source": [
    "carre(42)"
   ]
  },
  {
   "cell_type": "markdown",
   "metadata": {},
   "source": [
    "Comment ça fonctionne ? Déjà on utilise le mot-clef `def` qui signifie : je commence à définir une fonction. Ensuite, on donne un nom à la fonction, ici : `carre`. Enfin, on écrit entre parenthèse le nom de la variable d'entrée, ici : `nombre`.\n",
    "\n",
    "Une fonction, c'est un peu comme une recette de cuisine : une suite d'instruction ordonnées à effectuer, où on transforme des ingrédients (les variables d'entrée) en bon petit plat (les variables de sortie). Ici, `nombre`, la variable d'entrée est notre seul ingrédient.\n",
    "\n",
    "Notre fonction va ensuitre calculer le carré du nombre et stocker le résultat dans `resultat`. Et enfin, la fonction va renvoyer ce résultat grâce au mot-clef `return`."
   ]
  },
  {
   "cell_type": "markdown",
   "metadata": {},
   "source": [
    ">Exercice : écrivez une fonction appelée `cube` qui renvoie le cube d'un nombre."
   ]
  },
  {
   "cell_type": "markdown",
   "metadata": {},
   "source": [
    "# Les conditions\n",
    "Écrivons maintenant une fonction qui calcule la racine carrée d'un nombre. Pour cela, on peut utiliser la fonction `sqrt` (pour _square root_). Elle n'est pas activée par défaut et il faut donc l'importer grâce à la ligne suivante :"
   ]
  },
  {
   "cell_type": "code",
   "execution_count": 23,
   "metadata": {
    "collapsed": false
   },
   "outputs": [
    {
     "data": {
      "text/plain": [
       "5.0"
      ]
     },
     "execution_count": 23,
     "metadata": {},
     "output_type": "execute_result"
    }
   ],
   "source": [
    "import math\n",
    "math.sqrt(25)"
   ]
  },
  {
   "cell_type": "markdown",
   "metadata": {},
   "source": [
    "Le problème est qu'on ne peut pas calculer la racine carrée d'un nombre négatif :"
   ]
  },
  {
   "cell_type": "code",
   "execution_count": 24,
   "metadata": {
    "collapsed": false
   },
   "outputs": [
    {
     "ename": "ValueError",
     "evalue": "math domain error",
     "output_type": "error",
     "traceback": [
      "\u001b[0;31m---------------------------------------------------------------------------\u001b[0m",
      "\u001b[0;31mValueError\u001b[0m                                Traceback (most recent call last)",
      "\u001b[0;32m<ipython-input-24-282664054532>\u001b[0m in \u001b[0;36m<module>\u001b[0;34m()\u001b[0m\n\u001b[0;32m----> 1\u001b[0;31m \u001b[0mmath\u001b[0m\u001b[0;34m.\u001b[0m\u001b[0msqrt\u001b[0m\u001b[0;34m(\u001b[0m\u001b[0;34m-\u001b[0m\u001b[0;36m25\u001b[0m\u001b[0;34m)\u001b[0m\u001b[0;34m\u001b[0m\u001b[0m\n\u001b[0m",
      "\u001b[0;31mValueError\u001b[0m: math domain error"
     ]
    }
   ],
   "source": [
    "math.sqrt(-25)"
   ]
  },
  {
   "cell_type": "markdown",
   "metadata": {},
   "source": [
    "On va donc écrire une fonction qui s'assure que la racine que nous calculons est celle d'un nombre positif. Pour cela, on va utiliser une condition `if` (ou _si_). Démonstration :"
   ]
  },
  {
   "cell_type": "code",
   "execution_count": 25,
   "metadata": {
    "collapsed": true
   },
   "outputs": [],
   "source": [
    "def racine(nombre):\n",
    "    if nombre > 0:\n",
    "        resultat = math.sqrt(nombre)\n",
    "        return(resultat)"
   ]
  },
  {
   "cell_type": "code",
   "execution_count": 27,
   "metadata": {
    "collapsed": false
   },
   "outputs": [
    {
     "data": {
      "text/plain": [
       "5.0"
      ]
     },
     "execution_count": 27,
     "metadata": {},
     "output_type": "execute_result"
    }
   ],
   "source": [
    "racine(25)"
   ]
  },
  {
   "cell_type": "code",
   "execution_count": 28,
   "metadata": {
    "collapsed": true
   },
   "outputs": [],
   "source": [
    "racine(-25)"
   ]
  },
  {
   "cell_type": "markdown",
   "metadata": {},
   "source": [
    "C'est bon, la fonction ne nous renvoie pas d'erreur pour un nombre négatif !\n",
    "Mais on peut encore améliorer les choses et afficher un message d'erreur à l'utilisateur si son nombre est négatif. Pour cela, on va utiliser la fonction `print` qui permet d'afficher des messages, ainsi que la condition `else` (ou _sinon_) qui peut accompagner la condition `si` :"
   ]
  },
  {
   "cell_type": "code",
   "execution_count": 29,
   "metadata": {
    "collapsed": true
   },
   "outputs": [],
   "source": [
    "def racine(nombre):\n",
    "    if nombre > 0:\n",
    "        resultat = math.sqrt(nombre)\n",
    "        return(resultat)\n",
    "    else:\n",
    "        print(\"Attention, le nombre en entrée doit être positif !\")"
   ]
  },
  {
   "cell_type": "code",
   "execution_count": 30,
   "metadata": {
    "collapsed": false
   },
   "outputs": [
    {
     "name": "stdout",
     "output_type": "stream",
     "text": [
      "Attention, le nombre en entrée doit être positif !\n"
     ]
    }
   ],
   "source": [
    "racine(-25)"
   ]
  },
  {
   "cell_type": "markdown",
   "metadata": {},
   "source": [
    "# La base de données Sirene\n",
    "Pour passer à quelque chose de plus concret, on va essayer d'explorer la base de données Sirene ([disponible sur data.gouv](https://www.data.gouv.fr/fr/datasets/base-sirene-des-entreprises-et-de-leurs-etablissements-siren-siret/)). L'avantage d'utiliser Python avec Spyder plutôt qu'Excel est que, déjà, vous pouvez ouvrir le fichier !\n",
    "\n",
    "Pour ouvrir facilement le fichier `.csv`, on va utiliser la librairie `pandas`. Pour la charger :"
   ]
  },
  {
   "cell_type": "code",
   "execution_count": 31,
   "metadata": {
    "collapsed": true
   },
   "outputs": [],
   "source": [
    "import pandas as pd"
   ]
  },
  {
   "cell_type": "markdown",
   "metadata": {},
   "source": [
    "On peut ensuite charger le fichier dans un variable (ici `sirene`) en une seule ligne :"
   ]
  },
  {
   "cell_type": "code",
   "execution_count": 34,
   "metadata": {
    "collapsed": false
   },
   "outputs": [
    {
     "name": "stderr",
     "output_type": "stream",
     "text": [
      "//anaconda/lib/python3.6/site-packages/IPython/core/interactiveshell.py:2717: DtypeWarning: Columns (65,117) have mixed types. Specify dtype option on import or set low_memory=False.\n",
      "  interactivity=interactivity, compiler=compiler, result=result)\n"
     ]
    }
   ],
   "source": [
    "sirene = pd.read_csv(\"sirc-utf8.csv\", delimiter = \";\")"
   ]
  },
  {
   "cell_type": "markdown",
   "metadata": {},
   "source": [
    "L'erreur qu'on voit ci-dessus en un `Warning` (et pas une `Error`) et nous pouvons donc l'ignorer.\n",
    "\n",
    "Pour commencer, nous aimerions bien savoir quelles sont les différentes colonnes. Comme je ne me souviens jamais comment faire, je fais une recherche dans Google : `pandas column name`. Le premier lien me rappelle comment faire :"
   ]
  },
  {
   "cell_type": "code",
   "execution_count": 35,
   "metadata": {
    "collapsed": false
   },
   "outputs": [
    {
     "data": {
      "text/plain": [
       "['SIREN',\n",
       " 'NIC',\n",
       " 'L1_NORMALISEE',\n",
       " 'L2_NORMALISEE',\n",
       " 'L3_NORMALISEE',\n",
       " 'L4_NORMALISEE',\n",
       " 'L5_NORMALISEE',\n",
       " 'L6_NORMALISEE',\n",
       " 'L7_NORMALISEE',\n",
       " 'L1_DECLAREE',\n",
       " 'L2_DECLAREE',\n",
       " 'L3_DECLAREE',\n",
       " 'L4_DECLAREE',\n",
       " 'L5_DECLAREE',\n",
       " 'L6_DECLAREE',\n",
       " 'L7_DECLAREE',\n",
       " 'NUMVOIE',\n",
       " 'INDREP',\n",
       " 'TYPVOIE',\n",
       " 'LIBVOIE',\n",
       " 'CODPOS',\n",
       " 'CEDEX',\n",
       " 'RPET',\n",
       " 'LIBREG',\n",
       " 'DEPET',\n",
       " 'ARRONET',\n",
       " 'CTONET',\n",
       " 'COMET',\n",
       " 'LIBCOM',\n",
       " 'DU',\n",
       " 'TU',\n",
       " 'UU',\n",
       " 'EPCI',\n",
       " 'TCD',\n",
       " 'ZEMET',\n",
       " 'SIEGE',\n",
       " 'ENSEIGNE',\n",
       " 'IND_PUBLIPO',\n",
       " 'DIFFCOM',\n",
       " 'AMINTRET',\n",
       " 'NATETAB',\n",
       " 'LIBNATETAB',\n",
       " 'APET700',\n",
       " 'LIBAPET',\n",
       " 'DAPET',\n",
       " 'TEFET',\n",
       " 'LIBTEFET',\n",
       " 'EFETCENT',\n",
       " 'DEFET',\n",
       " 'ORIGINE',\n",
       " 'DCRET',\n",
       " 'DDEBACT',\n",
       " 'ACTIVNAT',\n",
       " 'LIEUACT',\n",
       " 'ACTISURF',\n",
       " 'SAISONAT',\n",
       " 'MODET',\n",
       " 'PRODET',\n",
       " 'PRODPART',\n",
       " 'AUXILT',\n",
       " 'NOMEN_LONG',\n",
       " 'SIGLE',\n",
       " 'NOM',\n",
       " 'PRENOM',\n",
       " 'CIVILITE',\n",
       " 'RNA',\n",
       " 'NICSIEGE',\n",
       " 'RPEN',\n",
       " 'DEPCOMEN',\n",
       " 'ADR_MAIL',\n",
       " 'NJ',\n",
       " 'LIBNJ',\n",
       " 'APEN700',\n",
       " 'LIBAPEN',\n",
       " 'DAPEN',\n",
       " 'APRM',\n",
       " 'ESS',\n",
       " 'DATEESS',\n",
       " 'TEFEN',\n",
       " 'LIBTEFEN',\n",
       " 'EFENCENT',\n",
       " 'DEFEN',\n",
       " 'CATEGORIE',\n",
       " 'DCREN',\n",
       " 'AMINTREN',\n",
       " 'MONOACT',\n",
       " 'MODEN',\n",
       " 'PRODEN',\n",
       " 'ESAANN',\n",
       " 'TCA',\n",
       " 'ESAAPEN',\n",
       " 'ESASEC1N',\n",
       " 'ESASEC2N',\n",
       " 'ESASEC3N',\n",
       " 'ESASEC4N',\n",
       " 'VMAJ',\n",
       " 'VMAJ1',\n",
       " 'VMAJ2',\n",
       " 'VMAJ3',\n",
       " 'DATEMAJ',\n",
       " 'EVE',\n",
       " 'DATEVE',\n",
       " 'TYPCREH',\n",
       " 'DREACTET',\n",
       " 'DREACTEN',\n",
       " 'MADRESSE',\n",
       " 'MENSEIGNE',\n",
       " 'MAPET',\n",
       " 'MPRODET',\n",
       " 'MAUXILT',\n",
       " 'MNOMEN',\n",
       " 'MSIGLE',\n",
       " 'MNICSIEGE',\n",
       " 'MNJ',\n",
       " 'MAPEN',\n",
       " 'MPRODEN',\n",
       " 'SIRETPS',\n",
       " 'TEL']"
      ]
     },
     "execution_count": 35,
     "metadata": {},
     "output_type": "execute_result"
    }
   ],
   "source": [
    "list(sirene)\n"
   ]
  },
  {
   "cell_type": "markdown",
   "metadata": {},
   "source": [
    "La colonne `LIBREG` contient les libellés des régions. Pour la sélectionner, je peux utiliser ces commandes :"
   ]
  },
  {
   "cell_type": "code",
   "execution_count": 36,
   "metadata": {
    "collapsed": false
   },
   "outputs": [
    {
     "data": {
      "text/plain": [
       "0                           Mayotte\n",
       "1                           Mayotte\n",
       "2                          Bretagne\n",
       "3                          Bretagne\n",
       "4                     Île-de-France\n",
       "5              Auvergne-Rhône-Alpes\n",
       "6              Auvergne-Rhône-Alpes\n",
       "7                     Île-de-France\n",
       "8                     Île-de-France\n",
       "9                     Île-de-France\n",
       "10             Auvergne-Rhône-Alpes\n",
       "11             Auvergne-Rhône-Alpes\n",
       "12             Auvergne-Rhône-Alpes\n",
       "13             Auvergne-Rhône-Alpes\n",
       "14                 Pays de la Loire\n",
       "15                 Pays de la Loire\n",
       "16                    Île-de-France\n",
       "17                    Île-de-France\n",
       "18                    Île-de-France\n",
       "19                         Bretagne\n",
       "20                         Bretagne\n",
       "21          Bourgogne-Franche-Comté\n",
       "22          Bourgogne-Franche-Comté\n",
       "23          Bourgogne-Franche-Comté\n",
       "24          Bourgogne-Franche-Comté\n",
       "25          Bourgogne-Franche-Comté\n",
       "26          Bourgogne-Franche-Comté\n",
       "27                        Normandie\n",
       "28                        Normandie\n",
       "29                        Normandie\n",
       "                    ...            \n",
       "11606                     Normandie\n",
       "11607                 Île-de-France\n",
       "11608                 Île-de-France\n",
       "11609                 Île-de-France\n",
       "11610                 Île-de-France\n",
       "11611                     Normandie\n",
       "11612                       Mayotte\n",
       "11613                      Bretagne\n",
       "11614    Provence-Alpes-Côte d'Azur\n",
       "11615    Provence-Alpes-Côte d'Azur\n",
       "11616                     Occitanie\n",
       "11617                     Occitanie\n",
       "11618          Auvergne-Rhône-Alpes\n",
       "11619          Auvergne-Rhône-Alpes\n",
       "11620                     Normandie\n",
       "11621    Provence-Alpes-Côte d'Azur\n",
       "11622          Auvergne-Rhône-Alpes\n",
       "11623          Auvergne-Rhône-Alpes\n",
       "11624                     Occitanie\n",
       "11625                     Occitanie\n",
       "11626          Auvergne-Rhône-Alpes\n",
       "11627            Nouvelle-Aquitaine\n",
       "11628          Auvergne-Rhône-Alpes\n",
       "11629          Auvergne-Rhône-Alpes\n",
       "11630          Auvergne-Rhône-Alpes\n",
       "11631       Bourgogne-Franche-Comté\n",
       "11632       Bourgogne-Franche-Comté\n",
       "11633          Auvergne-Rhône-Alpes\n",
       "11634          Auvergne-Rhône-Alpes\n",
       "11635          Auvergne-Rhône-Alpes\n",
       "Name: LIBREG, dtype: object"
      ]
     },
     "execution_count": 36,
     "metadata": {},
     "output_type": "execute_result"
    }
   ],
   "source": [
    "sirene['LIBREG']"
   ]
  },
  {
   "cell_type": "markdown",
   "metadata": {},
   "source": [
    "Je peux maintenant, par exemple, compter le nombre de fois que revient chaque valeur :"
   ]
  },
  {
   "cell_type": "code",
   "execution_count": 37,
   "metadata": {
    "collapsed": false
   },
   "outputs": [
    {
     "data": {
      "text/plain": [
       "Île-de-France                 2749\n",
       "Auvergne-Rhône-Alpes          1672\n",
       "Provence-Alpes-Côte d'Azur    1060\n",
       "Occitanie                     1059\n",
       "Nouvelle-Aquitaine            1049\n",
       "Grand Est                      781\n",
       "Hauts-de-France                616\n",
       "Pays de la Loire               546\n",
       "Bretagne                       530\n",
       "Normandie                      437\n",
       "Bourgogne-Franche-Comté        381\n",
       "Centre-Val de Loire            309\n",
       "La Réunion                     142\n",
       "Corse                           80\n",
       "Guadeloupe                      67\n",
       "Martinique                      47\n",
       "Guyane                          26\n",
       "ALLEMAGNE                       19\n",
       "ROYAUME-UNI                     10\n",
       "Saint-Martin                     7\n",
       "ITALIE                           6\n",
       "Mayotte                          5\n",
       "SUISSE                           5\n",
       "Saint-Pierre                     4\n",
       "PORTUGAL                         3\n",
       "PAYS-BAS                         3\n",
       "ESPAGNE                          3\n",
       "LUXEMBOURG                       3\n",
       "BELGIQUE                         3\n",
       "IRLANDE, ou EIRE                 2\n",
       "MALTE                            2\n",
       "POLOGNE                          2\n",
       "SUEDE                            1\n",
       "HONGRIE                          1\n",
       "AUSTRALIE                        1\n",
       "MONACO                           1\n",
       "Nouméa                           1\n",
       "JAPON                            1\n",
       "ISRAEL                           1\n",
       "Saint-Barthélemy                 1\n",
       "Name: LIBREG, dtype: int64"
      ]
     },
     "execution_count": 37,
     "metadata": {},
     "output_type": "execute_result"
    }
   ],
   "source": [
    "sirene['LIBREG'].value_counts()"
   ]
  },
  {
   "cell_type": "markdown",
   "metadata": {},
   "source": [
    "Puis sélectionner les dix premières valeurs :"
   ]
  },
  {
   "cell_type": "code",
   "execution_count": 41,
   "metadata": {
    "collapsed": false
   },
   "outputs": [
    {
     "data": {
      "text/plain": [
       "Île-de-France                 2749\n",
       "Auvergne-Rhône-Alpes          1672\n",
       "Provence-Alpes-Côte d'Azur    1060\n",
       "Occitanie                     1059\n",
       "Nouvelle-Aquitaine            1049\n",
       "Grand Est                      781\n",
       "Hauts-de-France                616\n",
       "Pays de la Loire               546\n",
       "Bretagne                       530\n",
       "Normandie                      437\n",
       "Name: LIBREG, dtype: int64"
      ]
     },
     "execution_count": 41,
     "metadata": {},
     "output_type": "execute_result"
    }
   ],
   "source": [
    "sirene['LIBREG'].value_counts().head(10)"
   ]
  },
  {
   "cell_type": "markdown",
   "metadata": {},
   "source": [
    "Et tracer un graphique à partir de ces données :"
   ]
  },
  {
   "cell_type": "code",
   "execution_count": 49,
   "metadata": {
    "collapsed": false
   },
   "outputs": [
    {
     "data": {
      "text/plain": [
       "<matplotlib.axes._subplots.AxesSubplot at 0x1102b2eb8>"
      ]
     },
     "execution_count": 49,
     "metadata": {},
     "output_type": "execute_result"
    },
    {
     "data": {
      "image/png": "[encoded data removed]",
      "text/plain": [
       "<matplotlib.figure.Figure at 0x10b013d30>"
      ]
     },
     "metadata": {},
     "output_type": "display_data"
    }
   ],
   "source": [
    "%matplotlib inline\n",
    "sirene['LIBREG'].value_counts().head(10).plot.barh()"
   ]
  },
  {
   "cell_type": "markdown",
   "metadata": {},
   "source": [
    ">Exercice : tracez un graphique en barre qui affiche la fréquence des 20 prénoms les plus courants chez les créateur·trice·s d'entreprise"
   ]
  }
 ],
 "metadata": {
  "kernelspec": {
   "display_name": "Python 3",
   "language": "python",
   "name": "python3"
  },
  "language_info": {
   "codemirror_mode": {
    "name": "ipython",
    "version": 3
   },
   "file_extension": ".py",
   "mimetype": "text/x-python",
   "name": "python",
   "nbconvert_exporter": "python",
   "pygments_lexer": "ipython3",
   "version": "3.6.0"
  }
 },
 "nbformat": 4,
 "nbformat_minor": 2
}
